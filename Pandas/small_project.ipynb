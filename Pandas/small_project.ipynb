{
 "cells": [
  {
   "cell_type": "code",
   "execution_count": 1,
   "id": "b29b3492",
   "metadata": {},
   "outputs": [],
   "source": [
    "## Exercise: Analyze and Visualize Weekly Sales Data\n",
    "\n",
    "## Scenario:\n",
    "## You run a small online store. Each day you record the number of sales for a handful of your products. You want to analyze and visualize your weekly sales.\n",
    "\n",
    "## Your Tasks\n",
    "##\t1.\tCreate a list containing the names of 4 products you sell, e.g. ['Shirt', 'Jeans', 'Hat', 'Socks'].\n",
    "##\t2.\tFor each product, create a dictionary where the key is the product name and the value is a list of daily sales for 7 days (random numbers, e.g. [5, 8, 3, 10, 7, 2, 6]).\n",
    "##\t3.\tCombine all product dictionaries into a list called weekly_sales.\n",
    "##\t4.\tWrite a function that takes this list of dictionaries and returns a Pandas DataFrame with products as rows and days as columns (Monday to Sunday).\n",
    "##\t5.\tUse a for loop to print the total sales for each product over the week.\n",
    "##\t6.\tUse a while loop to find and print the first product that sold more than 40 items in total over the week.\n",
    "##\t7.\tPlot a bar chart showing total sales per product for the week using Matplotlib."
   ]
  },
  {
   "cell_type": "code",
   "execution_count": 2,
   "id": "29d07603",
   "metadata": {},
   "outputs": [
    {
     "name": "stdout",
     "output_type": "stream",
     "text": [
      "[{'Shirt': [5, 8, 3, 10, 7, 2, 6]}, {'Jeans': [5, 2, 3, 10, 7, 2, 6]}, {'Hat': [5, 8, 3, 4, 1, 4, 9]}, {'Socks': [5, 2, 3, 10, 2, 7, 9]}]\n",
      "The first product to sell more than 40 item is  Shirt (Total sales: 41)\n",
      "[41, 35, 34, 38]\n"
     ]
    },
    {
     "data": {
      "image/png": "[encoded data removed]",
      "text/plain": [
       "<Figure size 640x480 with 1 Axes>"
      ]
     },
     "metadata": {},
     "output_type": "display_data"
    },
    {
     "data": {
      "text/plain": [
       "\"\\n df.loc['Shirt']   # Row labeled 'Shirt'\\n df.loc[:, 'Monday'] # select all rows and Monday column\\n\\n df.loc[row_label, column_label]\\n row_label: The name (label) of the row you want to select.\\n column_label: The name (label) of the column you want to select.\\n You can use just the row label, just the column label, or both.\\n\""
      ]
     },
     "execution_count": 2,
     "metadata": {},
     "output_type": "execute_result"
    }
   ],
   "source": [
    "Products = ['Shirt', 'Jeans', 'Hat', 'Socks']\n",
    "\n",
    "sales_data = { Products[0]: [5, 8, 3, 10, 7, 2, 6],\n",
    "               Products[1]: [5, 2, 3, 10, 7, 2, 6],\n",
    "               Products[2]: [5, 8, 3, 4, 1, 4, 9],\n",
    "               Products[3]: [5, 2, 3, 10, 2, 7, 9]}\n",
    "\n",
    "weekly_sales = []\n",
    "for product, sales in sales_data.items():\n",
    "    weekly_sales.append({product: sales})\n",
    "print(weekly_sales)\n",
    "\n",
    "import pandas as pd \n",
    "\n",
    "def convert_to_dataframe(weekly_sales):\n",
    "    combined_dict = {}\n",
    "    for item in weekly_sales:\n",
    "        combined_dict.update(item)\n",
    "    df = pd.DataFrame(combined_dict)\n",
    "    df = df.transpose()\n",
    "    df.columns = ['Monday', 'Tuesday', 'Wednesday', 'Thursday', 'Friday', 'Saturday', 'Sunday']\n",
    "    return df\n",
    "\n",
    "df = convert_to_dataframe(weekly_sales)\n",
    "\n",
    "#print(df)\n",
    "#len(df)\n",
    "#df.index\n",
    "\n",
    "\n",
    "threshold = 40\n",
    "i = 0 \n",
    "while i < len(df.index):\n",
    "    product = df.index[i]\n",
    "    total_sales = df.loc[product].sum()\n",
    "    if total_sales > threshold:\n",
    "        print('The first product to sell more than 40 item is ',  str(product) + ' (Total sales: ' + str(total_sales) + ')')\n",
    "        break\n",
    "    i += 1\n",
    "\n",
    "import matplotlib.pyplot as plt\n",
    "\n",
    "sales = []\n",
    "for product in df.index:\n",
    "   tot = df.loc[product].sum()\n",
    "   sales.append(tot)\n",
    "print(sales)\n",
    "\n",
    "\n",
    "\"\"\"\n",
    "Shirt  = df.index[0]\n",
    "total_sales_shirt = df.loc[Shirt].sum()\n",
    "print(total_sales_shirt)\n",
    "\n",
    "Jeans  = df.index[1]\n",
    "total_sales_jeans = df.loc[Jeans].sum()\n",
    "print(total_sales_jeans)\n",
    "\n",
    "Hat  = df.index[2]\n",
    "total_sales_hat = df.loc[Hat].sum()\n",
    "print(total_sales_hat)\n",
    "\n",
    "Socks  = df.index[3]\n",
    "total_sales_socks = df.loc[Socks].sum()\n",
    "print(total_sales_socks)\n",
    "\n",
    "sales = [total_sales_shirt, total_sales_jeans, total_sales_hat, total_sales_socks]\n",
    "\"\"\"\n",
    "\n",
    "\n",
    "\n",
    "plt.bar(df.index, sales)\n",
    "plt.ylabel('Sales')\n",
    "plt.title('Weekly sales per product')\n",
    "plt.show()\n",
    "\n",
    "\n",
    "\n",
    "\"\"\"\n",
    " df.loc['Shirt']   # Row labeled 'Shirt'\n",
    " df.loc[:, 'Monday'] # select all rows and Monday column\n",
    "\n",
    " df.loc[row_label, column_label]\n",
    " row_label: The name (label) of the row you want to select.\n",
    " column_label: The name (label) of the column you want to select.\n",
    " You can use just the row label, just the column label, or both.\n",
    "\"\"\"\n",
    "\n",
    "\n",
    "\n",
    "\n",
    "\n",
    "\n"
   ]
  },
  {
   "cell_type": "code",
   "execution_count": null,
   "id": "3e8767cc",
   "metadata": {},
   "outputs": [
    {
     "data": {
      "text/plain": [
       "'\\nExercise: Personalized Greetings with Lists and Loops\\n\\nObjective: Practice variable assignment, list creation, looping through a list, and string concatenation.\\n\\nDescription:\\nWrite a Python program that:\\n\\nStores at least five names in a list called names.\\nLoops through the list.\\nPrints a personalized greeting for each name using the format: \"Hello, [name.title()]! Welcome to the Python course.\"\\nBonus: After greeting all names, print a final message: \"All greetings sent successfully!\"\\n'"
      ]
     },
     "execution_count": 3,
     "metadata": {},
     "output_type": "execute_result"
    }
   ],
   "source": [
    "\"\"\"\n",
    "Exercise: Personalized Greetings with Lists and Loops\n",
    "\n",
    "Objective: Practice variable assignment, list creation, looping through a list, and string concatenation.\n",
    "\n",
    "Description:\n",
    "Write a Python program that:\n",
    "\n",
    "Stores at least five names in a list called names.\n",
    "Loops through the list.\n",
    "Prints a personalized greeting for each name using the format: \"Hello, [name.title()]! Welcome to the Python course.\"\n",
    "Bonus: After greeting all names, print a final message: \"All greetings sent successfully!\"\n",
    "\"\"\""
   ]
  },
  {
   "cell_type": "code",
   "execution_count": 8,
   "id": "79d79d94",
   "metadata": {},
   "outputs": [
    {
     "name": "stdout",
     "output_type": "stream",
     "text": [
      "Hello, David! Welcome to the Python course.\n",
      "Hello, Serena! Welcome to the Python course.\n",
      "Hello, Alex! Welcome to the Python course.\n",
      "Hello, Francois! Welcome to the Python course.\n",
      "Hello, Federica! Welcome to the Python course.\n"
     ]
    },
    {
     "data": {
      "text/plain": [
       "'All greetings sent successfully'"
      ]
     },
     "execution_count": 8,
     "metadata": {},
     "output_type": "execute_result"
    }
   ],
   "source": [
    "names = ['David', 'Serena', 'Alex', 'Francois', 'Federica']\n",
    "\n",
    "for name in names:\n",
    "    print('Hello, ' + str(name.title()) + '! Welcome to the Python course.')\n",
    "'All greetings sent successfully'"
   ]
  }
 ],
 "metadata": {
  "kernelspec": {
   "display_name": "Python 3",
   "language": "python",
   "name": "python3"
  },
  "language_info": {
   "codemirror_mode": {
    "name": "ipython",
    "version": 3
   },
   "file_extension": ".py",
   "mimetype": "text/x-python",
   "name": "python",
   "nbconvert_exporter": "python",
   "pygments_lexer": "ipython3",
   "version": "3.11.3"
  }
 },
 "nbformat": 4,
 "nbformat_minor": 5
}
