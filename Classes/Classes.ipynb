{
 "cells": [
  {
   "cell_type": "code",
   "execution_count": 26,
   "id": "7aa18f51",
   "metadata": {},
   "outputs": [
    {
     "name": "stdout",
     "output_type": "stream",
     "text": [
      "Molly says woof!\n"
     ]
    }
   ],
   "source": [
    "class Dog:\n",
    "    def __init__(self, name):\n",
    "        self.name = name  ##### set name attribute for Dog object\n",
    "\n",
    "    def bark(self):\n",
    "        print(self.name + ' says woof!')\n",
    "\n",
    "\n",
    "my_dog = Dog('Molly')\n",
    "my_dog.bark()"
   ]
  },
  {
   "cell_type": "code",
   "execution_count": 27,
   "id": "d469d93a",
   "metadata": {},
   "outputs": [
    {
     "data": {
      "text/plain": [
       "'\\nExercise: Create a Car Class\\n\\t1.\\tDefine a class named Car.\\nThe class should have an __init__ method that takes two parameters: make and model. Store these as attributes.\\n\\t2.\\tAdd a method named describe_car.\\nThis method should print a sentence describing the car using its make and model.\\n\\t3.\\tCreate an object of your Car class with any make and model you like.\\n\\t4.\\tCall the describe_car method on your object to display information about the car.\\n\\t5.\\tAdd another method named drive.\\nThis method should print a message like “The [make] [model] is now driving.” Call this method from your object.\\n'"
      ]
     },
     "execution_count": 27,
     "metadata": {},
     "output_type": "execute_result"
    }
   ],
   "source": [
    "\"\"\"\n",
    "Exercise: Create a Car Class\n",
    "\t1.\tDefine a class named Car.\n",
    "The class should have an __init__ method that takes two parameters: make and model. Store these as attributes.\n",
    "\t2.\tAdd a method named describe_car.\n",
    "This method should print a sentence describing the car using its make and model.\n",
    "\t3.\tCreate an object of your Car class with any make and model you like.\n",
    "\t4.\tCall the describe_car method on your object to display information about the car.\n",
    "\t5.\tAdd another method named drive.\n",
    "This method should print a message like “The [make] [model] is now driving.” Call this method from your object.\n",
    "\"\"\""
   ]
  },
  {
   "cell_type": "code",
   "execution_count": 28,
   "id": "95db588f",
   "metadata": {},
   "outputs": [
    {
     "name": "stdout",
     "output_type": "stream",
     "text": [
      "Ferrari F80 is fast!\n",
      "The Ferrari F80 is now driving.\n"
     ]
    }
   ],
   "source": [
    "class Car:\n",
    "    def __init__(self, make, model):    ## constructor method\n",
    "        self.make = make\n",
    "        self.model = model\n",
    "    \n",
    "    def describe_car(self):            ## custom method\n",
    "        print(self.make + ' ' + self.model + ' is fast' + '!')\n",
    "\n",
    "    def drive(self):                   ## custom method\n",
    "        print('The ' +  self.make + ' ' + self.model + ' is now driving' + '.')\n",
    "\n",
    "\n",
    "my_car = Car('Ferrari', 'F80')  ## Car refers to the class, my_car refer to the object. This line defines/creates\n",
    "# a new object (my_car) from the Car class and sets its attributes \n",
    "my_car.describe_car()   ## calls a method to describe its car (prints description)            \n",
    "my_car.drive()          ## calls a method to make the car  'drive' (prints driving message)\n",
    "\n",
    "\n",
    "# In summary:\n",
    "#\t•\tAny function you define inside a class (with def) is called a method.\n",
    "#\t•\t__init__ is a special method (constructor); the others are regular methods.\n",
    "\n",
    "         "
   ]
  },
  {
   "cell_type": "code",
   "execution_count": 29,
   "id": "712c4eb0",
   "metadata": {},
   "outputs": [
    {
     "data": {
      "text/plain": [
       "'\\nExercise: Create a Book Class\\n\\t1.\\tDefine a class named Book.\\n\\t•\\tThe class should have an __init__ method that takes two parameters: title and author.\\n\\t•\\tStore these as attributes.\\n\\t2.\\tAdd a method named describe_book.\\n\\t•\\tThis method should print a sentence describing the book, such as “[title] is written by [author].”\\n\\t3.\\tAdd a method named read.\\n\\t•\\tThis method should print a message like “You are now reading [title].”\\n\\t4.\\tCreate an object of your Book class with a title and author you choose.\\n\\t5.\\tCall both methods on your book object.\\n'"
      ]
     },
     "execution_count": 29,
     "metadata": {},
     "output_type": "execute_result"
    }
   ],
   "source": [
    "\"\"\"\n",
    "Exercise: Create a Book Class\n",
    "\t1.\tDefine a class named Book.\n",
    "\t•\tThe class should have an __init__ method that takes two parameters: title and author.\n",
    "\t•\tStore these as attributes.\n",
    "\t2.\tAdd a method named describe_book.\n",
    "\t•\tThis method should print a sentence describing the book, such as “[title] is written by [author].”\n",
    "\t3.\tAdd a method named read.\n",
    "\t•\tThis method should print a message like “You are now reading [title].”\n",
    "\t4.\tCreate an object of your Book class with a title and author you choose.\n",
    "\t5.\tCall both methods on your book object.\n",
    "\"\"\"    "
   ]
  },
  {
   "cell_type": "code",
   "execution_count": 30,
   "id": "ca9a6f76",
   "metadata": {},
   "outputs": [
    {
     "name": "stdout",
     "output_type": "stream",
     "text": [
      "Coach Carter is written by David\n",
      "You are now reading Coach Carter\n"
     ]
    }
   ],
   "source": [
    "class Book:\n",
    "    def __init__(self, title, author):\n",
    "        self.title = title\n",
    "        self.author = author\n",
    "    \n",
    "    def describe_book(self):\n",
    "        print(self.title + ' is written by ' + self.author)\n",
    "\n",
    "    def read(self):\n",
    "        print('You are now reading ' + self.title)\n",
    "\n",
    "\n",
    "Books = Book('Coach Carter', 'David')\n",
    "Books.describe_book()\n",
    "Books.read()\n",
    "\n"
   ]
  },
  {
   "cell_type": "markdown",
   "id": "4f0b9e7a",
   "metadata": {},
   "source": [
    "## Inheritance"
   ]
  },
  {
   "cell_type": "code",
   "execution_count": 31,
   "id": "e4c14856",
   "metadata": {},
   "outputs": [],
   "source": [
    "class Animal:\n",
    "    def speak(self):\n",
    "        print(\"Some sound\")\n",
    "\n",
    "class Dog(Animal):  # Dog inherits from Animal\n",
    "    def speak(self):\n",
    "        print(\"Woof!\")\n",
    "\n",
    "## Dog is a child class of Animal, so it inherits all the methods and attributes of Animal,\n",
    "## but can also override or add its own.         \n",
    "## Inheritance lets you reuse and extend code from an existing class, making your programs easier\n",
    "## to organize and maintain."
   ]
  },
  {
   "cell_type": "code",
   "execution_count": 32,
   "id": "f16f1312",
   "metadata": {},
   "outputs": [
    {
     "data": {
      "text/plain": [
       "'\\nExercise: Vehicles and Cars\\n\\nObjective:\\nPractice creating a base class and a child class using inheritance.\\n\\nInstructions:\\n\\t1.\\tCreate a class called Vehicle with:\\n\\t•\\tAn attribute for brand (e.g., “Toyota”)\\n\\t•\\tA method called drive() that prints \"The vehicle is moving.\"\\n\\t2.\\tCreate a child class called Car that inherits from Vehicle.\\n\\t•\\tAdd an attribute for model (e.g., “Corolla”)\\n\\t•\\tOverride the drive() method to print \"The car is driving.\"\\n\\t•\\tAdd a method called honk() that prints \"Beep beep!\"\\n\\t3.\\tCreate an object of the Car class and:\\n\\t•\\tPrint its brand and model\\n\\t•\\tCall its drive() and honk() methods\\n\\n'"
      ]
     },
     "execution_count": 32,
     "metadata": {},
     "output_type": "execute_result"
    }
   ],
   "source": [
    "\"\"\"\n",
    "Exercise: Vehicles and Cars\n",
    "\n",
    "Objective:\n",
    "Practice creating a base class and a child class using inheritance.\n",
    "\n",
    "Instructions:\n",
    "\t1.\tCreate a class called Vehicle with:\n",
    "\t•\tAn attribute for brand (e.g., “Toyota”)\n",
    "\t•\tA method called drive() that prints \"The vehicle is moving.\"\n",
    "\t2.\tCreate a child class called Car that inherits from Vehicle.\n",
    "\t•\tAdd an attribute for model (e.g., “Corolla”)\n",
    "\t•\tOverride the drive() method to print \"The car is driving.\"\n",
    "\t•\tAdd a method called honk() that prints \"Beep beep!\"\n",
    "\t3.\tCreate an object of the Car class and:\n",
    "\t•\tPrint its brand and model\n",
    "\t•\tCall its drive() and honk() methods\n",
    "\n",
    "\"\"\""
   ]
  },
  {
   "cell_type": "code",
   "execution_count": 33,
   "id": "5da21a60",
   "metadata": {},
   "outputs": [
    {
     "name": "stdout",
     "output_type": "stream",
     "text": [
      "Ferrari\n",
      "GTO\n",
      "The car is driving\n",
      "Beep beep!\n"
     ]
    }
   ],
   "source": [
    "class Vehicle:\n",
    "    def __init__(self, brand):\n",
    "        self.brand = brand\n",
    "\n",
    "    def drive(self):\n",
    "        print('The vehicle is moving')\n",
    "\n",
    "class Car(Vehicle):\n",
    "    def __init__(self, brand, model):\n",
    "        super().__init__(brand)  ##. Initialize brand from vehicle\n",
    "        self.model = model\n",
    "        \n",
    "    def drive(self):\n",
    "        print('The car is driving')\n",
    "\n",
    "    def honk(self):\n",
    "        print('Beep beep!')\n",
    "\n",
    "\n",
    "my_car = Car('Ferrari', 'GTO')\n",
    "print(my_car.brand)\n",
    "print(my_car.model)\n",
    "my_car.drive()\n",
    "my_car.honk()\n",
    "                "
   ]
  }
 ],
 "metadata": {
  "kernelspec": {
   "display_name": "Python 3",
   "language": "python",
   "name": "python3"
  },
  "language_info": {
   "codemirror_mode": {
    "name": "ipython",
    "version": 3
   },
   "file_extension": ".py",
   "mimetype": "text/x-python",
   "name": "python",
   "nbconvert_exporter": "python",
   "pygments_lexer": "ipython3",
   "version": "3.11.3"
  }
 },
 "nbformat": 4,
 "nbformat_minor": 5
}
