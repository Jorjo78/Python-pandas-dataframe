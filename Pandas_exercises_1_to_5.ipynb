{
 "cells": [
  {
   "cell_type": "code",
   "execution_count": null,
   "id": "fdfd2f4e",
   "metadata": {},
   "outputs": [],
   "source": [
    "## 1. Create and Inspect a DataFrame\n",
    "## Objective: Practice creating a DataFrame and inspecting its contents.\n",
    "## Description:\n",
    "## Create a Pandas DataFrame using a dictionary with the following data:\n",
    "\n",
    "## Names: Alice, Bob, Charlie\n",
    "## Ages: 25, 30, 35\n",
    "## Cities: New York, Paris, London\n",
    "## Display the first few rows of the DataFrame and print its basic info (data types and shape)."
   ]
  },
  {
   "cell_type": "code",
   "execution_count": 18,
   "id": "dba7c70d",
   "metadata": {},
   "outputs": [
    {
     "name": "stdout",
     "output_type": "stream",
     "text": [
      "<class 'pandas.core.frame.DataFrame'>\n",
      "RangeIndex: 3 entries, 0 to 2\n",
      "Data columns (total 3 columns):\n",
      " #   Column  Non-Null Count  Dtype \n",
      "---  ------  --------------  ----- \n",
      " 0   Names   3 non-null      object\n",
      " 1   Ages    3 non-null      int64 \n",
      " 2   Cities  3 non-null      object\n",
      "dtypes: int64(1), object(2)\n",
      "memory usage: 204.0+ bytes\n"
     ]
    },
    {
     "data": {
      "text/plain": [
       "Index(['Names', 'Ages', 'Cities'], dtype='object')"
      ]
     },
     "execution_count": 18,
     "metadata": {},
     "output_type": "execute_result"
    }
   ],
   "source": [
    "import pandas as pd\n",
    "\n",
    "data = {'Names': ['Alice', 'Bob', 'Charlie'],\n",
    "        'Ages': [25, 30, 35],\n",
    "        'Cities': ['New York', 'Paris', 'London']\n",
    "        }\n",
    "df = pd.DataFrame(data, columns =[ 'Names', 'Ages', 'Cities'])\n",
    "df.info()\n",
    "df.shape\n",
    "df.columns"
   ]
  },
  {
   "cell_type": "code",
   "execution_count": null,
   "id": "15ae1a73",
   "metadata": {},
   "outputs": [],
   "source": [
    "## 2. Select and Filter Data\n",
    "## Objective: Learn to select columns and filter rows based on conditions.\n",
    "## Description:\n",
    "## Given a DataFrame containing employee data with columns name, department, and salary, write code to:\n",
    "\n",
    "## Select only the name and salary columns.\n",
    "## Filter and display the rows where salary is greater than 50000."
   ]
  },
  {
   "cell_type": "code",
   "execution_count": null,
   "id": "316c2aaa",
   "metadata": {},
   "outputs": [
    {
     "name": "stdout",
     "output_type": "stream",
     "text": [
      "0    False\n",
      "1    False\n",
      "2     True\n",
      "Name: salary, dtype: bool\n"
     ]
    }
   ],
   "source": [
    "import pandas as pd\n",
    "\n",
    "data = {'name': ['David', 'Serena', 'Francesco'],\n",
    "        'department': ['HR', 'Finance', 'IT'],\n",
    "        'salary': [4800, 5000, 7000]\n",
    "        }\n",
    "df = pd.DataFrame(data, columns = ['name', 'department', 'salary'])\n",
    "df\n",
    "\n",
    "df[['name', 'salary']]\n",
    "# Create a boolean mask for salaries greater than 5000\n",
    "mask = df['salary'] > 5000  # Inner: creates a Boolean Series (True/False for each row)\n",
    "print(mask)\n",
    "# Use the mask to filter the DataFrame\n",
    "filtered_df = df[mask]      # Outer: selects only rows where mask is True\n",
    "print(filtered_df)\n",
    "\n",
    "\n",
    "## or all in on line\n",
    "mask = df[df['salary'] > 5000]\n",
    "\n",
    "\n"
   ]
  },
  {
   "cell_type": "code",
   "execution_count": null,
   "id": "dd49f389",
   "metadata": {},
   "outputs": [],
   "source": [
    "## 3. Add, Update, and Remove Columns\n",
    "## Objective: Manipulate DataFrame columns.\n",
    "\n",
    "## Description:\n",
    "## Starting with a DataFrame containing columns product and price, do the following:\n",
    "\n",
    "## Add a new column called discounted_price that is 90% of price.\n",
    "## Update the product column to uppercase for all rows.\n",
    "## Remove the original price column from the DataFrame."
   ]
  },
  {
   "cell_type": "code",
   "execution_count": null,
   "id": "84c49598",
   "metadata": {},
   "outputs": [],
   "source": []
  },
  {
   "cell_type": "code",
   "execution_count": null,
   "id": "c69f22c3",
   "metadata": {},
   "outputs": [],
   "source": [
    "## 4. Group and Aggregate Data\n",
    "\n",
    "## Objective: Summarize data using groupby and aggregation.\n",
    "## Description:\n",
    "## Given a DataFrame with columns category and sales, group the data by category and calculate the total and average sales for each category.\n",
    "## Display the resulting summary DataFrame."
   ]
  },
  {
   "cell_type": "code",
   "execution_count": null,
   "id": "99530234",
   "metadata": {},
   "outputs": [],
   "source": []
  },
  {
   "cell_type": "code",
   "execution_count": null,
   "id": "0eccac0d",
   "metadata": {},
   "outputs": [],
   "source": [
    "## 5. Read and Write CSV Files\n",
    "## Objective: Practice file I/O with Pandas.\n",
    "## Description:\n",
    "## Write code to:\n",
    "\n",
    "## Read a CSV file named data.csv into a DataFrame.\n",
    "## Display the first 5 rows of the data.\n",
    "## Save only the columns name and score into a new CSV file called filtered_data.csv."
   ]
  }
 ],
 "metadata": {
  "kernelspec": {
   "display_name": "Python 3",
   "language": "python",
   "name": "python3"
  },
  "language_info": {
   "codemirror_mode": {
    "name": "ipython",
    "version": 3
   },
   "file_extension": ".py",
   "mimetype": "text/x-python",
   "name": "python",
   "nbconvert_exporter": "python",
   "pygments_lexer": "ipython3",
   "version": "3.11.3"
  }
 },
 "nbformat": 4,
 "nbformat_minor": 5
}
